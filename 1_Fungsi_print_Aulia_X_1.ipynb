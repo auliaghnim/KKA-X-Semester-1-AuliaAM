{
  "nbformat": 4,
  "nbformat_minor": 0,
  "metadata": {
    "colab": {
      "provenance": [],
      "authorship_tag": "ABX9TyPydNPZmBjVQDFfTYR5Wjjz",
      "include_colab_link": true
    },
    "kernelspec": {
      "name": "python3",
      "display_name": "Python 3"
    },
    "language_info": {
      "name": "python"
    }
  },
  "cells": [
    {
      "cell_type": "markdown",
      "metadata": {
        "id": "view-in-github",
        "colab_type": "text"
      },
      "source": [
        "<a href=\"https://colab.research.google.com/github/auliaghnim/KKA-X-Semester-1-AuliaAM/blob/main/1_Fungsi_print_Aulia_X_1.ipynb\" target=\"_parent\"><img src=\"https://colab.research.google.com/assets/colab-badge.svg\" alt=\"Open In Colab\"/></a>"
      ]
    },
    {
      "cell_type": "code",
      "execution_count": null,
      "metadata": {
        "id": "PbC_WR02zpdT"
      },
      "outputs": [],
      "source": []
    },
    {
      "cell_type": "markdown",
      "source": [
        " nama : aulia aghni mardhatilla\n",
        "\n",
        " kelas : x1\n",
        "\n",
        " absen : 8"
      ],
      "metadata": {
        "id": "1mk2WXRC1zRV"
      }
    },
    {
      "cell_type": "markdown",
      "source": [
        "#menampilkan teks bebas"
      ],
      "metadata": {
        "id": "9U6AopGQ3HGU"
      }
    },
    {
      "cell_type": "code",
      "source": [
        "print (\"aulia aghni mardhatilla\")"
      ],
      "metadata": {
        "colab": {
          "base_uri": "https://localhost:8080/"
        },
        "id": "k8vmqsCm5skr",
        "outputId": "0101f84a-8358-4585-8408-17033865e723"
      },
      "execution_count": null,
      "outputs": [
        {
          "output_type": "stream",
          "name": "stdout",
          "text": [
            "aulia aghni mardhatilla\n"
          ]
        }
      ]
    },
    {
      "cell_type": "markdown",
      "source": [
        "#menampilkan nilai variabel"
      ],
      "metadata": {
        "id": "DoNVJdzO6Mjz"
      }
    },
    {
      "cell_type": "code",
      "source": [
        "nama_idola = \"hanan attaki\"\n",
        "\n",
        "print (nama_idola)"
      ],
      "metadata": {
        "colab": {
          "base_uri": "https://localhost:8080/"
        },
        "id": "G7fW1PU26YyM",
        "outputId": "bf827d70-36a1-47d8-cbd6-31fb64aa9c5b"
      },
      "execution_count": null,
      "outputs": [
        {
          "output_type": "stream",
          "name": "stdout",
          "text": [
            "hanan attaki\n"
          ]
        }
      ]
    },
    {
      "cell_type": "code",
      "source": [
        "usia = 15\n",
        "\n",
        "print (usia)"
      ],
      "metadata": {
        "colab": {
          "base_uri": "https://localhost:8080/"
        },
        "id": "7qMCKVUe72A6",
        "outputId": "e23f64a2-588f-4dbb-8b4b-edacda05e253"
      },
      "execution_count": null,
      "outputs": [
        {
          "output_type": "stream",
          "name": "stdout",
          "text": [
            "15\n"
          ]
        }
      ]
    },
    {
      "cell_type": "code",
      "source": [
        "nama_saudara = \"rahma \"\n",
        "\n",
        "print (nama_saudara)"
      ],
      "metadata": {
        "colab": {
          "base_uri": "https://localhost:8080/"
        },
        "id": "naoVkqt28bhf",
        "outputId": "fdd15844-37a9-4ea2-ad16-7da09b1ba0df"
      },
      "execution_count": null,
      "outputs": [
        {
          "output_type": "stream",
          "name": "stdout",
          "text": [
            "rahma \n"
          ]
        }
      ]
    },
    {
      "cell_type": "code",
      "source": [
        "jumlah_saudara = 1\n",
        "\n",
        "print (jumlah_saudara)"
      ],
      "metadata": {
        "colab": {
          "base_uri": "https://localhost:8080/"
        },
        "id": "wt0cQ1uU9ede",
        "outputId": "0aa64f48-6106-469f-a37e-3bdc1ad6f97a"
      },
      "execution_count": null,
      "outputs": [
        {
          "output_type": "stream",
          "name": "stdout",
          "text": [
            "1\n"
          ]
        }
      ]
    },
    {
      "cell_type": "markdown",
      "source": [
        "#menampilkan nilai variabel dan string"
      ],
      "metadata": {
        "id": "jTE_Z1GX38Y9"
      }
    },
    {
      "cell_type": "code",
      "source": [
        "print (\"Nama idola saya adalah\",nama_idola,\". Usianya adalah\",usia,\"tahun \")"
      ],
      "metadata": {
        "colab": {
          "base_uri": "https://localhost:8080/"
        },
        "id": "p_IHbrRz4OVv",
        "outputId": "4b7b0cfd-97b7-4fab-f011-770f600b88ea"
      },
      "execution_count": null,
      "outputs": [
        {
          "output_type": "stream",
          "name": "stdout",
          "text": [
            "Nama idola saya adalah hanan attaki . Usianya adalah 15 tahun \n"
          ]
        }
      ]
    },
    {
      "cell_type": "code",
      "source": [
        "print (\"Nama idola saya adalah \"+nama_idola+\". Usianya adalah \"+str(usia)+\"tahun\")"
      ],
      "metadata": {
        "id": "tzhMM4-o469f",
        "colab": {
          "base_uri": "https://localhost:8080/"
        },
        "outputId": "e102d1fd-aac6-4d38-90e0-a24cc2197690"
      },
      "execution_count": null,
      "outputs": [
        {
          "output_type": "stream",
          "name": "stdout",
          "text": [
            "Nama idola saya adalah hanan attaki. Usianya adalah 15tahun\n"
          ]
        }
      ]
    },
    {
      "cell_type": "code",
      "source": [
        "print (f\"Nama idola saya adalah {nama_idola}. Usianya adalah {usia} tahun\")"
      ],
      "metadata": {
        "colab": {
          "base_uri": "https://localhost:8080/"
        },
        "id": "nzDupDgJ5qao",
        "outputId": "a9e95caa-8a8e-4aaa-efe3-9abeeee867d5"
      },
      "execution_count": null,
      "outputs": [
        {
          "output_type": "stream",
          "name": "stdout",
          "text": [
            "Nama idola saya adalah hanan attaki. Usianya adalah 15 tahun\n"
          ]
        }
      ]
    },
    {
      "cell_type": "markdown",
      "source": [
        "#Escape character"
      ],
      "metadata": {
        "id": "JOiFOX2g9hqT"
      }
    },
    {
      "cell_type": "code",
      "source": [
        "print (\"Nama: Aulia Aghni Mardhatilla\")\n",
        "print (\"Kelas: X.1\")\n",
        "print (\"No. Absen: 8\")"
      ],
      "metadata": {
        "colab": {
          "base_uri": "https://localhost:8080/"
        },
        "id": "LIRIQtBO9mcK",
        "outputId": "76bb4664-114f-4280-ec4b-5f4edec2bd3e"
      },
      "execution_count": null,
      "outputs": [
        {
          "output_type": "stream",
          "name": "stdout",
          "text": [
            "Nama: Aulia Aghni Mardhatilla\n",
            "Kelas: X.1\n",
            "No. Absen: 8\n"
          ]
        }
      ]
    },
    {
      "cell_type": "code",
      "source": [
        "print (\"Nama: Aulia Aghni Mardhatilla\\nKelas: X.1\\nNo. Absen: 8\")"
      ],
      "metadata": {
        "colab": {
          "base_uri": "https://localhost:8080/"
        },
        "id": "Skfnn18I94Mb",
        "outputId": "55041562-26be-4ef6-d8aa-4e007baadb43"
      },
      "execution_count": null,
      "outputs": [
        {
          "output_type": "stream",
          "name": "stdout",
          "text": [
            "Nama: Aulia Aghni Mardhatilla\n",
            "Kelas: X.1\n",
            "No. Absen: 8\n"
          ]
        }
      ]
    },
    {
      "cell_type": "code",
      "source": [
        "print (\"\"\"Nama\\t\\t: Aulia Aghni Mardhatilla\n",
        "Kelas\\t\\t: X.1\n",
        "No. Absen\\t: 8\"\"\")"
      ],
      "metadata": {
        "colab": {
          "base_uri": "https://localhost:8080/"
        },
        "id": "3AAh9Jty-JMY",
        "outputId": "3e8b95e4-2f81-43f5-fdc3-37f28458fabc"
      },
      "execution_count": null,
      "outputs": [
        {
          "output_type": "stream",
          "name": "stdout",
          "text": [
            "Nama\t\t: Aulia Aghni Mardhatilla \n",
            "Kelas\t\t: X.1\n",
            "No. Absen\t: 8\n"
          ]
        }
      ]
    },
    {
      "cell_type": "code",
      "source": [
        "print (\"halo nama saya Habib jafar\")"
      ],
      "metadata": {
        "colab": {
          "base_uri": "https://localhost:8080/"
        },
        "id": "7Tnohi8WhtBm",
        "outputId": "e7dd2338-b1aa-45d1-e2df-96ddfbf5191b"
      },
      "execution_count": null,
      "outputs": [
        {
          "output_type": "stream",
          "name": "stdout",
          "text": [
            "halo nama saya Habib jafar\n"
          ]
        }
      ]
    },
    {
      "cell_type": "code",
      "source": [
        "print ('halo nama saya Habib jafar')"
      ],
      "metadata": {
        "colab": {
          "base_uri": "https://localhost:8080/"
        },
        "id": "MwNegNzRh42B",
        "outputId": "d82dc227-112b-4292-b353-dd9b88704401"
      },
      "execution_count": null,
      "outputs": [
        {
          "output_type": "stream",
          "name": "stdout",
          "text": [
            "halo nama saya Habib jafar\n"
          ]
        }
      ]
    },
    {
      "cell_type": "code",
      "source": [
        "print ('halo nama saya Habib ja\\'far')"
      ],
      "metadata": {
        "colab": {
          "base_uri": "https://localhost:8080/"
        },
        "id": "UpC_WCmkiC_p",
        "outputId": "10665f5e-0fe8-488b-da42-f3e157061f1e"
      },
      "execution_count": null,
      "outputs": [
        {
          "output_type": "stream",
          "name": "stdout",
          "text": [
            "halo nama saya Habib ja'far\n"
          ]
        }
      ]
    },
    {
      "cell_type": "code",
      "source": [
        "print (\"halo nama saya Habib ja'far\")"
      ],
      "metadata": {
        "colab": {
          "base_uri": "https://localhost:8080/"
        },
        "id": "mChl7UigiMjk",
        "outputId": "ff9b8d7c-4f57-496b-a695-de66e8bf4fc9"
      },
      "execution_count": null,
      "outputs": [
        {
          "output_type": "stream",
          "name": "stdout",
          "text": [
            "halo nama saya Habib ja'far\n"
          ]
        }
      ]
    },
    {
      "cell_type": "code",
      "source": [
        "print (\"Bu Shinta berkata, \\\"tolong fokus ke TV sejenak.\\\"\")"
      ],
      "metadata": {
        "colab": {
          "base_uri": "https://localhost:8080/"
        },
        "id": "__jDrTpviREZ",
        "outputId": "c61b5d8e-6df5-4a87-9c4d-977b93799013"
      },
      "execution_count": null,
      "outputs": [
        {
          "output_type": "stream",
          "name": "stdout",
          "text": [
            "Bu Shinta berkata, \"tolong fokus ke TV sejenak.\"\n"
          ]
        }
      ]
    },
    {
      "cell_type": "code",
      "source": [
        "print ('Bu Shinta berkata, \"tolong fokus ke TV sejenak.\"')"
      ],
      "metadata": {
        "colab": {
          "base_uri": "https://localhost:8080/"
        },
        "id": "mYFizCJ6ifXR",
        "outputId": "775265b1-0048-4735-f4dd-f943a3d12b26"
      },
      "execution_count": null,
      "outputs": [
        {
          "output_type": "stream",
          "name": "stdout",
          "text": [
            "Bu Shinta berkata, \"tolong fokus ke TV sejenak.\"\n"
          ]
        }
      ]
    },
    {
      "cell_type": "code",
      "source": [
        "print (\"Silakan simpan file tugas KKA di folder Local disk D:\\\\MAN Demak\\\\KKA\\\\Tugas\")"
      ],
      "metadata": {
        "colab": {
          "base_uri": "https://localhost:8080/"
        },
        "id": "ThZN6cGuiv4v",
        "outputId": "25274c82-a3ef-4da2-a0df-50c0b9cd6d88"
      },
      "execution_count": null,
      "outputs": [
        {
          "output_type": "stream",
          "name": "stdout",
          "text": [
            "Silakan simpan file tugas KKA di folder Local disk D:\\MAN Demak\\KKA\\Tugas\n"
          ]
        }
      ]
    },
    {
      "cell_type": "code",
      "source": [
        "print ('Bu Shinta berkata, \"Berikut adalah daftar piket harian kelas X.2 yang disimpan di file D:\\\\MAN Demak\\\\Jadwal piket.\"\\n\\nSenin\\tSelasa\\tRabu\\nJielo\\tHasbi\\tNaufal\\t\\nAzam\\tA\\'inun\\tNurul\\t')"
      ],
      "metadata": {
        "colab": {
          "base_uri": "https://localhost:8080/"
        },
        "id": "_qQNgvj8jUXt",
        "outputId": "d50e533e-f52b-431f-d4b6-f9522220d36a"
      },
      "execution_count": null,
      "outputs": [
        {
          "output_type": "stream",
          "name": "stdout",
          "text": [
            "Bu Shinta berkata, \"Berikut adalah daftar piket harian kelas X.2 yang disimpan di file D:\\MAN Demak\\Jadwal piket.\"\n",
            "\n",
            "Senin\tSelasa\tRabu\n",
            "Jielo\tHasbi\tNaufal\t\n",
            "Azam\tA'inun\tNurul\t\n"
          ]
        }
      ]
    },
    {
      "cell_type": "markdown",
      "source": [
        "#parameter fungsi print"
      ],
      "metadata": {
        "id": "7wSxmfdto-Pm"
      }
    },
    {
      "cell_type": "code",
      "source": [
        "nama_siswa_1 = \"Dias\"\n",
        "nama_siswa_2 = \"Disa\"\n",
        "\n",
        "print (nama_siswa_1, end=\" \")\n",
        "print (nama_siswa_2)"
      ],
      "metadata": {
        "colab": {
          "base_uri": "https://localhost:8080/"
        },
        "id": "ufhUpmBjpHUi",
        "outputId": "72793e13-2535-4e00-bb95-6b63d7fd3cf2"
      },
      "execution_count": null,
      "outputs": [
        {
          "output_type": "stream",
          "name": "stdout",
          "text": [
            "Dias Disa\n"
          ]
        }
      ]
    },
    {
      "cell_type": "code",
      "source": [
        "print (nama_siswa_1, nama_siswa_2)"
      ],
      "metadata": {
        "colab": {
          "base_uri": "https://localhost:8080/"
        },
        "id": "sr52mYYgpuv3",
        "outputId": "c9ce531d-83b2-4c9b-a753-feb7a3e97df6"
      },
      "execution_count": null,
      "outputs": [
        {
          "output_type": "stream",
          "name": "stdout",
          "text": [
            "Dias Disa\n"
          ]
        }
      ]
    },
    {
      "cell_type": "code",
      "source": [
        "print (nama_siswa_1, nama_siswa_2, sep=\"-\")"
      ],
      "metadata": {
        "colab": {
          "base_uri": "https://localhost:8080/"
        },
        "id": "bJ6wgJl-p2Vc",
        "outputId": "8bac9ba4-9531-4a67-e971-5415570c28f5"
      },
      "execution_count": null,
      "outputs": [
        {
          "output_type": "stream",
          "name": "stdout",
          "text": [
            "Dias-Disa\n"
          ]
        }
      ]
    },
    {
      "cell_type": "code",
      "source": [
        "nama_siswa_3 = \"Kinan\"\n",
        "nama_siswa_4 = \"Azka\"\n",
        "nama_siswa_5 = \"Naufal\"\n",
        "nama_siswa_6 = \"Ridho\"\n",
        "\n",
        "print (nama_siswa_6, nama_siswa_3, nama_siswa_5, nama_siswa_4, nama_siswa_4, sep=\"/\")\n",
        "\n",
        "print (nama_siswa_4, end=\"*\")\n",
        "print (nama_siswa_4, end=\"*\")\n",
        "print (nama_siswa_5, end=\"*\")\n",
        "print (nama_siswa_3, end=\"*\")\n",
        "print (nama_siswa_6)"
      ],
      "metadata": {
        "colab": {
          "base_uri": "https://localhost:8080/"
        },
        "id": "wzTWV7DgqHe-",
        "outputId": "511fab94-703a-4173-bccb-3d6e41138ce8"
      },
      "execution_count": null,
      "outputs": [
        {
          "output_type": "stream",
          "name": "stdout",
          "text": [
            "Ridho/Kinan/Naufal/Azka/Azka\n",
            "Azka*Azka*Naufal*Kinan*Ridho\n"
          ]
        }
      ]
    }
  ]
}